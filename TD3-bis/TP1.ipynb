{
 "cells": [
  {
   "cell_type": "markdown",
   "id": "92680490-c04d-47a5-a38e-3f4bd301f742",
   "metadata": {},
   "source": [
    "# TP : Application de la méthode d'Arora pour obtention de sentence embedding.\n",
    "\n",
    "* Master – MIASHS Lyon 2\n",
    "* 17 et 18 Octobre 2024\n",
    "\n",
    "## OBJECTIFS\n",
    "\n",
    "**Objectif global** : Construire un modèle qui prend en entrée un SMS et qui l'affecte en SPAM ou non. Utiliser pour cela un sentence embedding calculé par Arora et *al.* https://openreview.net/forum?id=SyK00v5xx \n",
    "\n",
    "1. Téléchargement du Dataset `spam` au lien : https://www.kaggle.com/datasets/uciml/sms-spam-collection-dataset\n",
    " \n",
    "2. Extraire les *word embeddings* (il sera contenu dans un dictionnaire) via Gensim Word2Vec pour chaque observation $i$.\n",
    "\n",
    "3. Calculer la sentence embeddings $v^i_s$ pour chaque observation $i$ via Arora.\n",
    "\n",
    "4. Effectuer un apprentissage par RandomForest ou Régression Logistique avec comme variable d'entrée les $(v^i_s)_i$.\n",
    "\n",
    "5. Conclusion sur le modèle ? Scores (Precision, Recall, Accuracy, ...)\n",
    "\n",
    "\n",
    "## Modèle voulu\n",
    "\n",
    "* $N$ désigne la taille du vecteur d'embedding (dimension de l'espace vectoriel dans lequel il réside).\n",
    "* $J$ désigne le nombre de token/mots de la phrase.\n",
    "* $v_s$ désigne le sentence embedding appris par Arora à partir des vecteurs d'embedding de mots $\\left(w_1, \\dots, w_J \\right)$.\n",
    "* $\\delta$ désigne la cible et vaut $1$ s'il le message est prédit comme spam; $0$ sinon. \n",
    "\n",
    "$$ \\text{phrase} \\ \\xrightarrow[\\mathrm{word. embd}]{\\mathrm{extract.} } \\quad \\left(w_1, \\dots, w_J \\right) \\in \\mathbb{R}^{N \\times J} \\quad \\xrightarrow[]{\\mathrm{Arora} }  \\quad v_s  \\in \\mathbb{R}^{N} \\quad \\xrightarrow[]{\\boxed{ \\mathrm{model} }} \\quad \\delta^{\\text{pred}} \\in \\{0,1\\}$$\n",
    "\n",
    "\n",
    "## **Un GitHub pour les méthodes Python utilisées pour Arora et *al.* 2017** \n",
    "\n",
    "https://github.com/PrincetonML/SIF"
   ]
  },
  {
   "cell_type": "markdown",
   "id": "236100fa-543e-4114-b478-f7bac051208f",
   "metadata": {},
   "source": [
    "## 0) Import des packages usuels"
   ]
  },
  {
   "cell_type": "code",
   "execution_count": 1,
   "id": "cc0ff778-79b0-4c92-8c6f-67732e9efec2",
   "metadata": {},
   "outputs": [],
   "source": [
    "# Installation depuis le Notebook\n",
    "# !pip install numpy tqdm gensim scikit-learn scipy pandas matplotlib seaborn \n",
    "\n",
    "# Si autre workflow\n",
    "# conda install ...\n",
    "# poetry add ... "
   ]
  },
  {
   "cell_type": "code",
   "execution_count": 2,
   "id": "c51db53c-c205-4ef8-8c4c-218fa9dde231",
   "metadata": {},
   "outputs": [],
   "source": [
    "# Importer les bibliothèques nécessaires\n",
    "import numpy as np\n",
    "import matplotlib.pyplot as plt\n",
    "import seaborn as sns\n",
    "import scipy\n",
    "import pandas as pd\n",
    "from tqdm import tqdm"
   ]
  },
  {
   "cell_type": "markdown",
   "id": "5aa381c0-da3d-42dd-b381-a97e268f11a2",
   "metadata": {},
   "source": [
    "## 1) Import du dataset et statistiques descriptives\n",
    "\n",
    "Si l'encodage n'est pas en `UTF-8`, essayer `ISO-8859-1` ou `latin`."
   ]
  },
  {
   "cell_type": "code",
   "execution_count": 3,
   "id": "3f887bc8-00c8-4f2c-9590-19195fa49ff7",
   "metadata": {},
   "outputs": [],
   "source": [
    "df = pd.read_csv('./spam.csv', sep=',', encoding='ISO-8859-1') # Import du Dataset\n",
    "\n",
    "df = df.iloc[:, :-3] # Supprimer les 3 dernières colonnes\n",
    "df.columns = ['target', 'text'] # Renommer la première colonne en 'target' et la deuxième en 'text'\n",
    "df = df[['text', 'target']] # Inverser les colonnes\n",
    "\n",
    "# Conversion en `int` ou `bool`\n",
    "df['target'] = df['target'].apply(lambda x: 1 if x == 'spam' else 0)\n",
    "#df['target'] = df['target'].apply(lambda x: True if x == 'spam' else False)"
   ]
  },
  {
   "cell_type": "code",
   "execution_count": 4,
   "id": "c99f624c-9a83-4ac5-9a92-8565c82e6270",
   "metadata": {},
   "outputs": [
    {
     "data": {
      "text/html": [
       "<div>\n",
       "<style scoped>\n",
       "    .dataframe tbody tr th:only-of-type {\n",
       "        vertical-align: middle;\n",
       "    }\n",
       "\n",
       "    .dataframe tbody tr th {\n",
       "        vertical-align: top;\n",
       "    }\n",
       "\n",
       "    .dataframe thead th {\n",
       "        text-align: right;\n",
       "    }\n",
       "</style>\n",
       "<table border=\"1\" class=\"dataframe\">\n",
       "  <thead>\n",
       "    <tr style=\"text-align: right;\">\n",
       "      <th></th>\n",
       "      <th>text</th>\n",
       "      <th>target</th>\n",
       "    </tr>\n",
       "  </thead>\n",
       "  <tbody>\n",
       "    <tr>\n",
       "      <th>0</th>\n",
       "      <td>Go until jurong point, crazy.. Available only ...</td>\n",
       "      <td>0</td>\n",
       "    </tr>\n",
       "    <tr>\n",
       "      <th>1</th>\n",
       "      <td>Ok lar... Joking wif u oni...</td>\n",
       "      <td>0</td>\n",
       "    </tr>\n",
       "    <tr>\n",
       "      <th>2</th>\n",
       "      <td>Free entry in 2 a wkly comp to win FA Cup fina...</td>\n",
       "      <td>1</td>\n",
       "    </tr>\n",
       "    <tr>\n",
       "      <th>3</th>\n",
       "      <td>U dun say so early hor... U c already then say...</td>\n",
       "      <td>0</td>\n",
       "    </tr>\n",
       "    <tr>\n",
       "      <th>4</th>\n",
       "      <td>Nah I don't think he goes to usf, he lives aro...</td>\n",
       "      <td>0</td>\n",
       "    </tr>\n",
       "  </tbody>\n",
       "</table>\n",
       "</div>"
      ],
      "text/plain": [
       "                                                text  target\n",
       "0  Go until jurong point, crazy.. Available only ...       0\n",
       "1                      Ok lar... Joking wif u oni...       0\n",
       "2  Free entry in 2 a wkly comp to win FA Cup fina...       1\n",
       "3  U dun say so early hor... U c already then say...       0\n",
       "4  Nah I don't think he goes to usf, he lives aro...       0"
      ]
     },
     "execution_count": 4,
     "metadata": {},
     "output_type": "execute_result"
    }
   ],
   "source": [
    "df.head() # Aperçu rapide du DataFrame"
   ]
  },
  {
   "cell_type": "code",
   "execution_count": 5,
   "id": "66b9d891-4b55-4289-9cad-6484caa2c75f",
   "metadata": {},
   "outputs": [
    {
     "data": {
      "text/html": [
       "<div>\n",
       "<style scoped>\n",
       "    .dataframe tbody tr th:only-of-type {\n",
       "        vertical-align: middle;\n",
       "    }\n",
       "\n",
       "    .dataframe tbody tr th {\n",
       "        vertical-align: top;\n",
       "    }\n",
       "\n",
       "    .dataframe thead th {\n",
       "        text-align: right;\n",
       "    }\n",
       "</style>\n",
       "<table border=\"1\" class=\"dataframe\">\n",
       "  <thead>\n",
       "    <tr style=\"text-align: right;\">\n",
       "      <th></th>\n",
       "      <th>Type</th>\n",
       "      <th>Nombre d'observations</th>\n",
       "      <th>Valeurs manquantes</th>\n",
       "      <th>Longueur moyenne</th>\n",
       "      <th>Longueur maximale</th>\n",
       "      <th>Longueur minimale</th>\n",
       "      <th>Fréquence des classes</th>\n",
       "    </tr>\n",
       "  </thead>\n",
       "  <tbody>\n",
       "    <tr>\n",
       "      <th>text</th>\n",
       "      <td>object</td>\n",
       "      <td>5572</td>\n",
       "      <td>0</td>\n",
       "      <td>80.12</td>\n",
       "      <td>910</td>\n",
       "      <td>2</td>\n",
       "      <td>NaN</td>\n",
       "    </tr>\n",
       "    <tr>\n",
       "      <th>target</th>\n",
       "      <td>int64</td>\n",
       "      <td>5572</td>\n",
       "      <td>0</td>\n",
       "      <td>NaN</td>\n",
       "      <td>NaN</td>\n",
       "      <td>NaN</td>\n",
       "      <td>{0: 4825, 1: 747}</td>\n",
       "    </tr>\n",
       "  </tbody>\n",
       "</table>\n",
       "</div>"
      ],
      "text/plain": [
       "          Type Nombre d'observations Valeurs manquantes Longueur moyenne  \\\n",
       "text    object                  5572                  0            80.12   \n",
       "target   int64                  5572                  0              NaN   \n",
       "\n",
       "       Longueur maximale Longueur minimale Fréquence des classes  \n",
       "text                 910                 2                   NaN  \n",
       "target               NaN               NaN     {0: 4825, 1: 747}  "
      ]
     },
     "execution_count": 5,
     "metadata": {},
     "output_type": "execute_result"
    }
   ],
   "source": [
    "# Créer un dictionnaire pour stocker les statistiques de 'text' et 'target'\n",
    "stats = {}\n",
    "\n",
    "# Statistiques pour la colonne 'text'\n",
    "stats['text'] = {\n",
    "    'Type': df['text'].dtype,\n",
    "    'Nombre d\\'observations': df['text'].count(),\n",
    "    'Valeurs manquantes': df['text'].isnull().sum(),\n",
    "    'Longueur moyenne': round(df['text'].str.len().mean(),2),\n",
    "    'Longueur maximale': df['text'].str.len().max(),\n",
    "    'Longueur minimale': df['text'].str.len().min()\n",
    "}\n",
    "\n",
    "# Statistiques pour la colonne 'target'\n",
    "stats['target'] = {\n",
    "    'Type': df['target'].dtype,\n",
    "    'Nombre d\\'observations': df['target'].count(),\n",
    "    'Valeurs manquantes': df['target'].isnull().sum(),\n",
    "    'Fréquence des classes': df['target'].value_counts().to_dict()\n",
    "}\n",
    "\n",
    "# Convertir le dictionnaire des statistiques en DataFrame\n",
    "stats_df = pd.DataFrame(stats).transpose()\n",
    "\n",
    "# Afficher le DataFrame avec les statistiques\n",
    "stats_df"
   ]
  },
  {
   "cell_type": "code",
   "execution_count": 6,
   "id": "8660b072-bcce-4a0f-a6e3-3addf7065d82",
   "metadata": {},
   "outputs": [
    {
     "data": {
      "image/png": "[encoded data removed]",
      "text/plain": [
       "<Figure size 1200x600 with 2 Axes>"
      ]
     },
     "metadata": {},
     "output_type": "display_data"
    }
   ],
   "source": [
    "# Compter les occurrences des valeurs dans df['target']\n",
    "target_counts = df['target'].value_counts(normalize=True)\n",
    "\n",
    "# Créer une figure avec deux sous-graphiques côte à côte\n",
    "fig, axes = plt.subplots(1, 2, figsize=(12, 6))\n",
    "\n",
    "# Histogramme à gauche\n",
    "sns.barplot(x=target_counts.index, y=target_counts.values, \n",
    "            hue=target_counts.index, palette=[\"#3498db\", \"#e74c3c\"], dodge=False, legend=False, ax=axes[0])\n",
    "axes[0].set_xlabel('Target')\n",
    "axes[0].set_ylabel('Pourcentage')\n",
    "axes[0].set_title('Répartition en pourcentage - Histogramme')\n",
    "\n",
    "# Camembert à droite\n",
    "axes[1].pie(target_counts.values, labels=target_counts.index, autopct='%1.1f%%', \n",
    "            colors=[\"#3498db\", \"#e74c3c\"], startangle=90, counterclock=False)\n",
    "axes[1].set_title('Répartition en pourcentage - Camembert')\n",
    "\n",
    "plt.tight_layout()\n",
    "plt.show()"
   ]
  },
  {
   "cell_type": "markdown",
   "id": "30282c5c-c0eb-404b-a0ff-57721e70bbf2",
   "metadata": {},
   "source": [
    "## 2) Extraction des *word embeddings* via Word2Vec\n",
    "\n",
    "Quelques sources...\n",
    "\n",
    "* https://radimrehurek.com/gensim/models/word2vec.html\n",
    "* https://datascientest.com/nlp-word-embedding-word2vec"
   ]
  },
  {
   "cell_type": "code",
   "execution_count": 7,
   "id": "870aea98-abf8-4dfe-836c-dab0d4aa28d9",
   "metadata": {},
   "outputs": [],
   "source": [
    "from gensim.models import Word2Vec"
   ]
  },
  {
   "cell_type": "code",
   "execution_count": 8,
   "id": "1937e680-d7ca-4daa-a82f-589eb5306bd1",
   "metadata": {},
   "outputs": [],
   "source": [
    "def tokenize(text):\n",
    "    \"\"\"\n",
    "    Tokenize le texte en une liste de mots.\n",
    "    \"\"\"\n",
    "    return text.lower().split()"
   ]
  },
  {
   "cell_type": "code",
   "execution_count": 9,
   "id": "741aa9e2-7512-4ba7-915d-c98b29388f11",
   "metadata": {},
   "outputs": [],
   "source": [
    "def extract_word_embd(df, vec_size=100):\n",
    "    \"\"\"\n",
    "    Cette méthode prend en entrée un DataFrame 'df', entraîne un modèle Word2Vec,\n",
    "    et retourne 'df' avec une nouvelle colonne contenant un dictionnaire des tokens et leurs word embeddings.\n",
    "    \n",
    "    `vec_size`: dimension du vecteur. Plus vec_size est élevé, plus on peut capter de sémentique distinctes. \n",
    "    Attention à ne pas travailler avec de trop grandes dimensions...\n",
    "    \"\"\"\n",
    "    # Tokeniser les textes dans la colonne 'text'\n",
    "    df['tokenized_text'] = df['text'].apply(tokenize)\n",
    "\n",
    "    # Entraîner le modèle Word2Vec sur les textes tokenisés\n",
    "    model = Word2Vec(sentences=df['tokenized_text'], vector_size=vec_size, window=5, min_count=1, workers=4,seed=177)\n",
    "\n",
    "    # Obtenir un dictionnaire des tokens et de leurs embeddings pour chaque texte\n",
    "    def get_word_embedding_dict(tokenized_text):\n",
    "        word_embedding_dict = {word: model.wv[word] for word in tokenized_text if word in model.wv}\n",
    "        return word_embedding_dict\n",
    "        \n",
    "    # Calculer les word embeddings pour chaque texte\n",
    "    word_embeddings_list = []\n",
    "    for tokenized_text in tqdm(df['tokenized_text'], desc='calcul de word embedding...'):\n",
    "        word_embedding = get_word_embedding_dict(tokenized_text)\n",
    "        word_embeddings_list.append(word_embedding)\n",
    "    \n",
    "    # Ajouter la liste des word embeddings en tant que nouvelle colonne dans le DataFrame\n",
    "    df['word_embeddings'] = word_embeddings_list\n",
    "    \n",
    "    # df['word_embeddings'] = df['tokenized_text'].apply(get_word_embedding_dict)\n",
    "    \n",
    "    # Associer la longueur du dictionnaire d'embeddings à chaque observation\n",
    "    df['len_dico'] = df['word_embeddings'].apply(lambda d: len(d))\n",
    "\n",
    "    # Supprimer la colonne 'tokenized_text' maintenant inutile\n",
    "    df = df.drop(columns=['tokenized_text'])\n",
    "    \n",
    "    return df"
   ]
  },
  {
   "cell_type": "code",
   "execution_count": 10,
   "id": "b007dffd-898b-45fb-a247-44e306a9a7ff",
   "metadata": {},
   "outputs": [
    {
     "name": "stderr",
     "output_type": "stream",
     "text": [
      "calcul de word embedding...: 100%|███████| 5572/5572 [00:00<00:00, 56642.28it/s]\n"
     ]
    }
   ],
   "source": [
    "# Obtention des word embeddings\n",
    "df_we = extract_word_embd(df)"
   ]
  },
  {
   "cell_type": "code",
   "execution_count": 11,
   "id": "e745004f-6d84-4372-a7a8-8747c9edabc7",
   "metadata": {},
   "outputs": [
    {
     "data": {
      "text/html": [
       "<div>\n",
       "<style scoped>\n",
       "    .dataframe tbody tr th:only-of-type {\n",
       "        vertical-align: middle;\n",
       "    }\n",
       "\n",
       "    .dataframe tbody tr th {\n",
       "        vertical-align: top;\n",
       "    }\n",
       "\n",
       "    .dataframe thead th {\n",
       "        text-align: right;\n",
       "    }\n",
       "</style>\n",
       "<table border=\"1\" class=\"dataframe\">\n",
       "  <thead>\n",
       "    <tr style=\"text-align: right;\">\n",
       "      <th></th>\n",
       "      <th>text</th>\n",
       "      <th>target</th>\n",
       "      <th>word_embeddings</th>\n",
       "      <th>len_dico</th>\n",
       "    </tr>\n",
       "  </thead>\n",
       "  <tbody>\n",
       "    <tr>\n",
       "      <th>0</th>\n",
       "      <td>Go until jurong point, crazy.. Available only ...</td>\n",
       "      <td>0</td>\n",
       "      <td>{'go': [-0.34138602, 0.18105742, 1.035313, 1.0...</td>\n",
       "      <td>20</td>\n",
       "    </tr>\n",
       "    <tr>\n",
       "      <th>1</th>\n",
       "      <td>Ok lar... Joking wif u oni...</td>\n",
       "      <td>0</td>\n",
       "      <td>{'ok': [-0.20060277, 0.12750539, 0.6013699, 0....</td>\n",
       "      <td>6</td>\n",
       "    </tr>\n",
       "    <tr>\n",
       "      <th>2</th>\n",
       "      <td>Free entry in 2 a wkly comp to win FA Cup fina...</td>\n",
       "      <td>1</td>\n",
       "      <td>{'free': [-0.344245, 0.1807126, 0.9684378, 1.0...</td>\n",
       "      <td>24</td>\n",
       "    </tr>\n",
       "    <tr>\n",
       "      <th>3</th>\n",
       "      <td>U dun say so early hor... U c already then say...</td>\n",
       "      <td>0</td>\n",
       "      <td>{'u': [-0.41555744, 0.21242239, 1.2778972, 1.2...</td>\n",
       "      <td>10</td>\n",
       "    </tr>\n",
       "    <tr>\n",
       "      <th>4</th>\n",
       "      <td>Nah I don't think he goes to usf, he lives aro...</td>\n",
       "      <td>0</td>\n",
       "      <td>{'nah': [-0.009405118, 0.0014766935, 0.0481459...</td>\n",
       "      <td>12</td>\n",
       "    </tr>\n",
       "  </tbody>\n",
       "</table>\n",
       "</div>"
      ],
      "text/plain": [
       "                                                text  target  \\\n",
       "0  Go until jurong point, crazy.. Available only ...       0   \n",
       "1                      Ok lar... Joking wif u oni...       0   \n",
       "2  Free entry in 2 a wkly comp to win FA Cup fina...       1   \n",
       "3  U dun say so early hor... U c already then say...       0   \n",
       "4  Nah I don't think he goes to usf, he lives aro...       0   \n",
       "\n",
       "                                     word_embeddings  len_dico  \n",
       "0  {'go': [-0.34138602, 0.18105742, 1.035313, 1.0...        20  \n",
       "1  {'ok': [-0.20060277, 0.12750539, 0.6013699, 0....         6  \n",
       "2  {'free': [-0.344245, 0.1807126, 0.9684378, 1.0...        24  \n",
       "3  {'u': [-0.41555744, 0.21242239, 1.2778972, 1.2...        10  \n",
       "4  {'nah': [-0.009405118, 0.0014766935, 0.0481459...        12  "
      ]
     },
     "execution_count": 11,
     "metadata": {},
     "output_type": "execute_result"
    }
   ],
   "source": [
    "df_we.head()"
   ]
  },
  {
   "cell_type": "markdown",
   "id": "125f61dc-dc1e-46cc-8010-825da36a87fa",
   "metadata": {},
   "source": [
    "### Prendre des exemples simples et comparer leur similarité"
   ]
  },
  {
   "cell_type": "code",
   "execution_count": 12,
   "id": "b456581d-4270-4f4e-ae5b-b941cdfb1fed",
   "metadata": {},
   "outputs": [],
   "source": [
    "vec_size = 100\n",
    "model = Word2Vec(sentences=df['tokenized_text'], vector_size=vec_size, window=5, min_count=1, workers=4,seed=177)\n",
    "\n",
    "mot1 = \"cat\"\n",
    "vec1 = model.wv[mot1]\n",
    "\n",
    "mot2 = \"dog\"\n",
    "vec2 = model.wv[mot2]\n",
    "\n",
    "mot3 = \"building\"\n",
    "vec3 = model.wv[mot3]"
   ]
  },
  {
   "cell_type": "code",
   "execution_count": 13,
   "id": "943d6f92-3ce6-4bfb-8575-671496df32c1",
   "metadata": {},
   "outputs": [
    {
     "name": "stdout",
     "output_type": "stream",
     "text": [
      "La cosinus similarité entre 'cat' et 'dog' vaut 0.9552, soit 95.52%.\n",
      "La cosinus similarité entre 'cat' et 'building' vaut 0.9374, soit 93.74%.\n",
      "La cosinus similarité entre 'dog' et 'building' vaut 0.9477, soit 94.77%.\n"
     ]
    }
   ],
   "source": [
    "from sklearn.metrics.pairwise import cosine_similarity\n",
    "\n",
    "# On s'assure que les vecteurs soient bien au format matrices 2D (1 ligne et vec_size colonnes)\n",
    "vec1_2d = vec1.reshape(1, -1)\n",
    "vec2_2d = vec2.reshape(1, -1)\n",
    "vec3_2d = vec3.reshape(1, -1)\n",
    "\n",
    "# Calcul de la similarité cosinus\n",
    "dist_1_2 = cosine_similarity(vec1_2d, vec2_2d)\n",
    "dist_1_3 = cosine_similarity(vec1_2d, vec3_2d)\n",
    "dist_2_3 = cosine_similarity(vec2_2d, vec3_2d)\n",
    "\n",
    "print(f\"La cosinus similarité entre '{mot1}' et '{mot2}' vaut {dist_1_2[0][0]:.4f}, soit {dist_1_2[0][0]*100:.2f}%.\")\n",
    "print(f\"La cosinus similarité entre '{mot1}' et '{mot3}' vaut {dist_1_3[0][0]:.4f}, soit {dist_1_3[0][0]*100:.2f}%.\")\n",
    "print(f\"La cosinus similarité entre '{mot2}' et '{mot3}' vaut {dist_2_3[0][0]:.4f}, soit {dist_2_3[0][0]*100:.2f}%.\")"
   ]
  },
  {
   "cell_type": "markdown",
   "id": "72a33374-b787-451e-b47b-af82723817de",
   "metadata": {},
   "source": [
    "### Prendre des exemples simples et comparer leur similarité"
   ]
  },
  {
   "cell_type": "code",
   "execution_count": 14,
   "id": "df214e2b-c0af-41eb-b322-25d76c2dc040",
   "metadata": {},
   "outputs": [],
   "source": [
    "#!pip install torch transformers"
   ]
  },
  {
   "cell_type": "code",
   "execution_count": 15,
   "id": "21fb88d5-d37d-4296-ad77-172e2fe87d2a",
   "metadata": {},
   "outputs": [
    {
     "name": "stderr",
     "output_type": "stream",
     "text": [
      "/Applications/anaconda3/envs/CLB_test/lib/python3.11/site-packages/tqdm/auto.py:21: TqdmWarning: IProgress not found. Please update jupyter and ipywidgets. See https://ipywidgets.readthedocs.io/en/stable/user_install.html\n",
      "  from .autonotebook import tqdm as notebook_tqdm\n"
     ]
    }
   ],
   "source": [
    "from transformers import BertModel, BertTokenizer\n",
    "import torch"
   ]
  },
  {
   "cell_type": "code",
   "execution_count": 16,
   "id": "b42ad1e0-f45f-49e9-a1b9-c70bd70c1d28",
   "metadata": {},
   "outputs": [],
   "source": [
    "def calculate_cosine_similarity_bert(model_name, mot1, mot2, mot3):\n",
    "    # Chargement du modèle BERT et du tokenizer\n",
    "    tokenizer = BertTokenizer.from_pretrained(model_name)\n",
    "    model = BertModel.from_pretrained(model_name)\n",
    "    model.eval()\n",
    "\n",
    "    # Fonction pour obtenir les embeddings d'un mot\n",
    "    def get_word_embedding(word):\n",
    "        inputs = tokenizer(word, return_tensors=\"pt\")\n",
    "        with torch.no_grad():\n",
    "            outputs = model(**inputs)\n",
    "        # Utilise les embeddings du dernier layer pour le premier token (CLS token souvent)\n",
    "        return outputs.last_hidden_state[:, 0, :].numpy()\n",
    "\n",
    "    # Obtenir les embeddings\n",
    "    vec1 = get_word_embedding(mot1)\n",
    "    vec2 = get_word_embedding(mot2)\n",
    "    vec3 = get_word_embedding(mot3)\n",
    "\n",
    "    # Calcul de la similarité cosinus\n",
    "    dist_1_2 = cosine_similarity(vec1, vec2)\n",
    "    dist_1_3 = cosine_similarity(vec1, vec3)\n",
    "    dist_2_3 = cosine_similarity(vec2, vec3)\n",
    "\n",
    "    # Affichage des résultats\n",
    "    print(f\"La cosinus similarité entre '{mot1}' et '{mot2}' vaut {dist_1_2[0][0]:.4f}, soit {dist_1_2[0][0]*100:.2f}%.\")\n",
    "    print(f\"La cosinus similarité entre '{mot1}' et '{mot3}' vaut {dist_1_3[0][0]:.4f}, soit {dist_1_3[0][0]*100:.2f}%.\")\n",
    "    print(f\"La cosinus similarité entre '{mot2}' et '{mot3}' vaut {dist_2_3[0][0]:.4f}, soit {dist_2_3[0][0]*100:.2f}%.\")"
   ]
  },
  {
   "cell_type": "code",
   "execution_count": 17,
   "id": "eaed0bd0-e5b6-4f27-b9f3-29285dfe3c1f",
   "metadata": {},
   "outputs": [
    {
     "name": "stderr",
     "output_type": "stream",
     "text": [
      "/Applications/anaconda3/envs/CLB_test/lib/python3.11/site-packages/transformers/tokenization_utils_base.py:1601: FutureWarning: `clean_up_tokenization_spaces` was not set. It will be set to `True` by default. This behavior will be depracted in transformers v4.45, and will be then set to `False` by default. For more details check this issue: https://github.com/huggingface/transformers/issues/31884\n",
      "  warnings.warn(\n"
     ]
    },
    {
     "name": "stdout",
     "output_type": "stream",
     "text": [
      "La cosinus similarité entre 'cat' et 'dog' vaut 0.9665, soit 96.65%.\n",
      "La cosinus similarité entre 'cat' et 'music' vaut 0.9113, soit 91.13%.\n",
      "La cosinus similarité entre 'dog' et 'music' vaut 0.9215, soit 92.15%.\n"
     ]
    }
   ],
   "source": [
    "calculate_cosine_similarity_bert('bert-base-uncased', 'cat', 'dog', 'music')"
   ]
  },
  {
   "cell_type": "code",
   "execution_count": 18,
   "id": "af63491e-45be-4913-bc2f-af71de80093f",
   "metadata": {},
   "outputs": [
    {
     "name": "stderr",
     "output_type": "stream",
     "text": [
      "/Applications/anaconda3/envs/CLB_test/lib/python3.11/site-packages/transformers/tokenization_utils_base.py:1601: FutureWarning: `clean_up_tokenization_spaces` was not set. It will be set to `True` by default. This behavior will be depracted in transformers v4.45, and will be then set to `False` by default. For more details check this issue: https://github.com/huggingface/transformers/issues/31884\n",
      "  warnings.warn(\n"
     ]
    },
    {
     "name": "stdout",
     "output_type": "stream",
     "text": [
      "La cosinus similarité entre 'cat' et 'violin' vaut 0.6878, soit 68.78%.\n",
      "La cosinus similarité entre 'cat' et 'music' vaut 0.9113, soit 91.13%.\n",
      "La cosinus similarité entre 'violin' et 'music' vaut 0.7487, soit 74.87%.\n"
     ]
    }
   ],
   "source": [
    "calculate_cosine_similarity_bert('bert-base-uncased', 'cat', 'violin', 'music')"
   ]
  },
  {
   "cell_type": "markdown",
   "id": "70104c60-6d33-46fd-aee4-aa004fbe8668",
   "metadata": {},
   "source": [
    "## 3) Calcul du sentence embedding via Arora"
   ]
  },
  {
   "cell_type": "code",
   "execution_count": 19,
   "id": "18a911f4-74f5-4fc8-b17a-a0e521bc4c30",
   "metadata": {},
   "outputs": [],
   "source": [
    "from sklearn.decomposition import TruncatedSVD"
   ]
  },
  {
   "cell_type": "code",
   "execution_count": 20,
   "id": "a9e978fc-d783-438a-995f-621da34be176",
   "metadata": {},
   "outputs": [],
   "source": [
    "import warnings\n",
    "\n",
    "# Désactiver spécifiquement le RuntimeWarning lié aux \"invalid value encountered in divide\"\n",
    "warnings.filterwarnings(\"ignore\", message=\"invalid value encountered in divide\", category=RuntimeWarning)\n",
    "\n",
    "# Classe pour définir les paramètres\n",
    "class Params:\n",
    "    def __init__(self, rmpc):\n",
    "        self.rmpc = rmpc\n",
    "\n",
    "def get_weighted_average(We, x, w):\n",
    "    \"\"\"\n",
    "    Compute the weighted average vectors\n",
    "    :param We: We[i,:] is the vector for word i\n",
    "    :param x: x[i, :] are the indices of the words in sentence i\n",
    "    :param w: w[i, :] are the weights for the words in sentence i\n",
    "    :return: emb[i, :] are the weighted average vector for sentence i\n",
    "    \"\"\"\n",
    "    n_samples = x.shape[0]\n",
    "    emb = np.zeros((n_samples, We.shape[1]))\n",
    "    for i in range(n_samples):\n",
    "        emb[i,:] = w[i,:].dot(We[x[i,:],:]) / np.count_nonzero(w[i,:])\n",
    "    return emb\n",
    "\n",
    "def compute_pc(X, npc=1):\n",
    "    \"\"\"\n",
    "    Compute the principal components. DO NOT MAKE THE DATA ZERO MEAN!\n",
    "    :param X: X[i,:] is a data point\n",
    "    :param npc: number of principal components to remove\n",
    "    :return: component_[i,:] is the i-th pc\n",
    "    \"\"\"\n",
    "    # Remplacer les NaN et valeurs infinies par 0\n",
    "    X = np.nan_to_num(X, nan=0.0, posinf=0.0, neginf=0.0)\n",
    "    \n",
    "    # Vérification supplémentaire pour s'assurer que la matrice est correctement nettoyée\n",
    "    if np.any(np.isnan(X)) or np.any(np.isinf(X)):\n",
    "        print(\"Attention : La matrice contient encore des valeurs non numériques après nettoyage.\")\n",
    "\n",
    "    # Appliquer TruncatedSVD\n",
    "    svd = TruncatedSVD(n_components=npc, n_iter=7, random_state=0)\n",
    "    svd.fit(X)\n",
    "    return svd.components_\n",
    "\n",
    "def remove_pc(X, npc=1):\n",
    "    \"\"\"\n",
    "    Remove the projection on the principal components\n",
    "    :param X: X[i,:] is a data point\n",
    "    :param npc: number of principal components to remove\n",
    "    :return: XX[i, :] is the data point after removing its projection\n",
    "    \"\"\"\n",
    "    pc = compute_pc(X, npc)\n",
    "    if npc==1:\n",
    "        XX = X - X.dot(pc.transpose()) * pc\n",
    "    else:\n",
    "        XX = X - X.dot(pc.transpose()).dot(pc)\n",
    "    return XX\n",
    "\n",
    "\n",
    "def SIF_embedding(We, x, w, params):\n",
    "    \"\"\"\n",
    "    Compute the scores between pairs of sentences using weighted average + removing the projection on the first principal component\n",
    "    :param We: We[i,:] is the vector for word i\n",
    "    :param x: x[i, :] are the indices of the words in the i-th sentence\n",
    "    :param w: w[i, :] are the weights for the words in the i-th sentence\n",
    "    :param params.rmpc: if >0, remove the projections of the sentence embeddings to their first principal component\n",
    "    :return: emb, emb[i, :] is the embedding for sentence i\n",
    "    \"\"\"\n",
    "    emb = get_weighted_average(We, x, w)\n",
    "    if  params.rmpc > 0:\n",
    "        emb = remove_pc(emb, npc = params.rmpc)\n",
    "    return emb"
   ]
  },
  {
   "cell_type": "code",
   "execution_count": 21,
   "id": "a39bcb2a-692d-456c-8c00-64bf04593372",
   "metadata": {},
   "outputs": [],
   "source": [
    "# Fonction pour calculer les poids SIF\n",
    "def compute_sif_weights(word_occurence, total_words, a=1e-3):\n",
    "    \"\"\"\n",
    "    Calcule les poids SIF pour chaque mot\n",
    "    :param word_occurence: dictionnaire de fréquence des mots (en nbr d'occurrence)\n",
    "    :param total_words: nombre total de mots dans le corpus\n",
    "    :param a: paramètre de lissage\n",
    "    :return: dictionnaire de poids pour chaque mot\n",
    "    \"\"\"\n",
    "    sif_weights = {word: a / (a + (freq / total_words)) for word, freq in word_occurence.items()}\n",
    "    return sif_weights\n",
    "\n",
    "\n",
    "# Fonction principale pour traiter chaque rapport indépendamment\n",
    "def process_report(word_embeddings, a_arora=1e-3):\n",
    "    all_words = []\n",
    "    all_embeddings = []\n",
    "    word_occurence = {}\n",
    "\n",
    "    # Collecter les embeddings et calculer la fréquence des mots pour le rapport actuel\n",
    "    for word, embedding in word_embeddings.items():\n",
    "        all_words.append(word)\n",
    "        all_embeddings.append(embedding)\n",
    "        word_occurence[word] = word_occurence.get(word, 0) + 1\n",
    "\n",
    "    # Convertir les embeddings en matrice numpy\n",
    "    We = np.vstack(all_embeddings)\n",
    "\n",
    "    # Calculer les poids SIF pour le rapport actuel\n",
    "    total_words = len(all_words)\n",
    "    sif_weights = compute_sif_weights(word_occurence, total_words, a= a_arora)\n",
    "\n",
    "    # Créer x et w pour le rapport actuel\n",
    "    x = np.array([[i for i, _ in enumerate(all_words)]])\n",
    "    w = np.array([[sif_weights[word] for word in all_words]])\n",
    "\n",
    "    return We, x, w\n",
    "\n",
    "\n",
    "def arora_methods(\n",
    "    df,\n",
    "    var_text=\"text\",\n",
    "    remove_pc_nbr = 1,\n",
    "    a_arora=1e-3\n",
    "):\n",
    "    \"\"\"\n",
    "    Calcule les embeddings de phrases pour un DataFrame en utilisant la méthode Arora.\n",
    "\n",
    "    Args:\n",
    "        df (pd.DataFrame): DataFrame contenant les données.\n",
    "        var_text (str): Nom de la colonne contenant les textes (par défaut \"text\").\n",
    "        a_arora (float): Paramètre de lissage SIF (par défaut 1e-3).\n",
    "\n",
    "    Returns:\n",
    "        pd.DataFrame: DataFrame avec une colonne 'embeddings' ajoutée.\n",
    "    \"\"\"\n",
    "    params = Params(rmpc=remove_pc_nbr)\n",
    "\n",
    "    # Initialiser une liste pour stocker les embeddings des phrases\n",
    "    sentence_embeddings_list = []\n",
    "\n",
    "    # Boucle avec tqdm pour afficher la progression\n",
    "    for we in tqdm(df['word_embeddings'], desc=\"Calcul des sentence embeddings...\"):\n",
    "        # Appliquer process_report et SIF_embedding sur chaque ensemble d'embeddings de mots\n",
    "        We, x, w = process_report(we, a_arora=a_arora)\n",
    "        sentence_embedding = SIF_embedding(We, x, w, params)\n",
    "        # Ajouter l'embedding calculé à la liste\n",
    "        sentence_embeddings_list.append(sentence_embedding)\n",
    "\n",
    "    # Ajouter les embeddings calculés au DataFrame\n",
    "    sentence_embeddings_list = [np.squeeze(embedding) for embedding in sentence_embeddings_list]\n",
    "    df['sentence_embeddings'] = sentence_embeddings_list\n",
    "\n",
    "    return df"
   ]
  },
  {
   "cell_type": "code",
   "execution_count": 22,
   "id": "1b024c48-d362-4b96-8b95-ee26097c3b4f",
   "metadata": {},
   "outputs": [
    {
     "name": "stderr",
     "output_type": "stream",
     "text": [
      "Calcul des sentence embeddings...: 100%|█| 5572/5572 [00:00<00:00, 25748.26it/s]\n"
     ]
    }
   ],
   "source": [
    "df_arora = arora_methods(df_we, remove_pc_nbr = 0)"
   ]
  },
  {
   "cell_type": "code",
   "execution_count": 23,
   "id": "5301a863-e5cd-4c74-ab27-077aefeb2b7a",
   "metadata": {},
   "outputs": [
    {
     "data": {
      "text/html": [
       "<div>\n",
       "<style scoped>\n",
       "    .dataframe tbody tr th:only-of-type {\n",
       "        vertical-align: middle;\n",
       "    }\n",
       "\n",
       "    .dataframe tbody tr th {\n",
       "        vertical-align: top;\n",
       "    }\n",
       "\n",
       "    .dataframe thead th {\n",
       "        text-align: right;\n",
       "    }\n",
       "</style>\n",
       "<table border=\"1\" class=\"dataframe\">\n",
       "  <thead>\n",
       "    <tr style=\"text-align: right;\">\n",
       "      <th></th>\n",
       "      <th>text</th>\n",
       "      <th>target</th>\n",
       "      <th>word_embeddings</th>\n",
       "      <th>len_dico</th>\n",
       "      <th>sentence_embeddings</th>\n",
       "    </tr>\n",
       "  </thead>\n",
       "  <tbody>\n",
       "    <tr>\n",
       "      <th>0</th>\n",
       "      <td>Go until jurong point, crazy.. Available only ...</td>\n",
       "      <td>0</td>\n",
       "      <td>{'go': [-0.34138602, 0.18105742, 1.035313, 1.0...</td>\n",
       "      <td>20</td>\n",
       "      <td>[-0.002584329832590062, 0.0015815068629237035,...</td>\n",
       "    </tr>\n",
       "    <tr>\n",
       "      <th>1</th>\n",
       "      <td>Ok lar... Joking wif u oni...</td>\n",
       "      <td>0</td>\n",
       "      <td>{'ok': [-0.20060277, 0.12750539, 0.6013699, 0....</td>\n",
       "      <td>6</td>\n",
       "      <td>[-0.0007736532648962369, 0.0004264258567353055...</td>\n",
       "    </tr>\n",
       "    <tr>\n",
       "      <th>2</th>\n",
       "      <td>Free entry in 2 a wkly comp to win FA Cup fina...</td>\n",
       "      <td>1</td>\n",
       "      <td>{'free': [-0.344245, 0.1807126, 0.9684378, 1.0...</td>\n",
       "      <td>24</td>\n",
       "      <td>[-0.003419838959871413, 0.0019497634746699077,...</td>\n",
       "    </tr>\n",
       "    <tr>\n",
       "      <th>3</th>\n",
       "      <td>U dun say so early hor... U c already then say...</td>\n",
       "      <td>0</td>\n",
       "      <td>{'u': [-0.41555744, 0.21242239, 1.2778972, 1.2...</td>\n",
       "      <td>10</td>\n",
       "      <td>[-0.00181316343864592, 0.0010050356220961134, ...</td>\n",
       "    </tr>\n",
       "    <tr>\n",
       "      <th>4</th>\n",
       "      <td>Nah I don't think he goes to usf, he lives aro...</td>\n",
       "      <td>0</td>\n",
       "      <td>{'nah': [-0.009405118, 0.0014766935, 0.0481459...</td>\n",
       "      <td>12</td>\n",
       "      <td>[-0.0019112110092845776, 0.0011467085201053956...</td>\n",
       "    </tr>\n",
       "  </tbody>\n",
       "</table>\n",
       "</div>"
      ],
      "text/plain": [
       "                                                text  target  \\\n",
       "0  Go until jurong point, crazy.. Available only ...       0   \n",
       "1                      Ok lar... Joking wif u oni...       0   \n",
       "2  Free entry in 2 a wkly comp to win FA Cup fina...       1   \n",
       "3  U dun say so early hor... U c already then say...       0   \n",
       "4  Nah I don't think he goes to usf, he lives aro...       0   \n",
       "\n",
       "                                     word_embeddings  len_dico  \\\n",
       "0  {'go': [-0.34138602, 0.18105742, 1.035313, 1.0...        20   \n",
       "1  {'ok': [-0.20060277, 0.12750539, 0.6013699, 0....         6   \n",
       "2  {'free': [-0.344245, 0.1807126, 0.9684378, 1.0...        24   \n",
       "3  {'u': [-0.41555744, 0.21242239, 1.2778972, 1.2...        10   \n",
       "4  {'nah': [-0.009405118, 0.0014766935, 0.0481459...        12   \n",
       "\n",
       "                                 sentence_embeddings  \n",
       "0  [-0.002584329832590062, 0.0015815068629237035,...  \n",
       "1  [-0.0007736532648962369, 0.0004264258567353055...  \n",
       "2  [-0.003419838959871413, 0.0019497634746699077,...  \n",
       "3  [-0.00181316343864592, 0.0010050356220961134, ...  \n",
       "4  [-0.0019112110092845776, 0.0011467085201053956...  "
      ]
     },
     "execution_count": 23,
     "metadata": {},
     "output_type": "execute_result"
    }
   ],
   "source": [
    "df_arora.head()"
   ]
  },
  {
   "cell_type": "markdown",
   "id": "2867e905-09d8-4bda-95c0-8f36f02dfe7d",
   "metadata": {},
   "source": [
    "## 4) Apprentissage d'une Random Forest pour classification"
   ]
  },
  {
   "cell_type": "code",
   "execution_count": 24,
   "id": "68f4a6db-e47a-4f7f-92f0-51ac79fda8c9",
   "metadata": {},
   "outputs": [],
   "source": [
    "from sklearn.ensemble import RandomForestClassifier\n",
    "from sklearn.model_selection import train_test_split\n",
    "from sklearn.metrics import accuracy_score, precision_score, recall_score, f1_score, confusion_matrix, ConfusionMatrixDisplay,roc_auc_score"
   ]
  },
  {
   "cell_type": "code",
   "execution_count": 25,
   "id": "26380712-48ca-4a7c-b818-5c1e0a828760",
   "metadata": {},
   "outputs": [],
   "source": [
    "# Placer `target` à la toute fin\n",
    "cols = [col for col in df_arora.columns if col != 'target'] + ['target']\n",
    "df_arora = df_arora[cols]"
   ]
  },
  {
   "cell_type": "code",
   "execution_count": 26,
   "id": "c7d3bbef-a138-4513-8b14-b9025de933fa",
   "metadata": {},
   "outputs": [],
   "source": [
    "# Définition des variables explicatives et cibles\n",
    "var_explc = 'sentence_embeddings'\n",
    "var_target = 'target'"
   ]
  },
  {
   "cell_type": "code",
   "execution_count": 27,
   "id": "7db27a7f-40d2-4b69-a22b-5f719325da9b",
   "metadata": {},
   "outputs": [
    {
     "data": {
      "text/html": [
       "<div>\n",
       "<style scoped>\n",
       "    .dataframe tbody tr th:only-of-type {\n",
       "        vertical-align: middle;\n",
       "    }\n",
       "\n",
       "    .dataframe tbody tr th {\n",
       "        vertical-align: top;\n",
       "    }\n",
       "\n",
       "    .dataframe thead th {\n",
       "        text-align: right;\n",
       "    }\n",
       "</style>\n",
       "<table border=\"1\" class=\"dataframe\">\n",
       "  <thead>\n",
       "    <tr style=\"text-align: right;\">\n",
       "      <th></th>\n",
       "      <th>sentence_embeddings</th>\n",
       "      <th>target</th>\n",
       "    </tr>\n",
       "  </thead>\n",
       "  <tbody>\n",
       "    <tr>\n",
       "      <th>0</th>\n",
       "      <td>[-0.002584329832590062, 0.0015815068629237035,...</td>\n",
       "      <td>0</td>\n",
       "    </tr>\n",
       "    <tr>\n",
       "      <th>1</th>\n",
       "      <td>[-0.0007736532648962369, 0.0004264258567353055...</td>\n",
       "      <td>0</td>\n",
       "    </tr>\n",
       "    <tr>\n",
       "      <th>2</th>\n",
       "      <td>[-0.003419838959871413, 0.0019497634746699077,...</td>\n",
       "      <td>1</td>\n",
       "    </tr>\n",
       "    <tr>\n",
       "      <th>3</th>\n",
       "      <td>[-0.00181316343864592, 0.0010050356220961134, ...</td>\n",
       "      <td>0</td>\n",
       "    </tr>\n",
       "    <tr>\n",
       "      <th>4</th>\n",
       "      <td>[-0.0019112110092845776, 0.0011467085201053956...</td>\n",
       "      <td>0</td>\n",
       "    </tr>\n",
       "  </tbody>\n",
       "</table>\n",
       "</div>"
      ],
      "text/plain": [
       "                                 sentence_embeddings  target\n",
       "0  [-0.002584329832590062, 0.0015815068629237035,...       0\n",
       "1  [-0.0007736532648962369, 0.0004264258567353055...       0\n",
       "2  [-0.003419838959871413, 0.0019497634746699077,...       1\n",
       "3  [-0.00181316343864592, 0.0010050356220961134, ...       0\n",
       "4  [-0.0019112110092845776, 0.0011467085201053956...       0"
      ]
     },
     "execution_count": 27,
     "metadata": {},
     "output_type": "execute_result"
    }
   ],
   "source": [
    "df_arora_etude = df_arora[[var_explc,var_target]]\n",
    "df_arora_etude.head()"
   ]
  },
  {
   "cell_type": "code",
   "execution_count": 28,
   "id": "6b86c5c0-95f6-4ac4-910b-9aa149614677",
   "metadata": {},
   "outputs": [],
   "source": [
    "# Conversion des colonnes d'intérêt en tableaux numpy\n",
    "X = np.vstack(df_arora[var_explc].values)  # Les embeddings de phrases\n",
    "y = df_arora[var_target].values  # La variable cible"
   ]
  },
  {
   "cell_type": "code",
   "execution_count": 29,
   "id": "8afbcc91-1b69-4e4d-a3c1-f434de644c28",
   "metadata": {},
   "outputs": [
    {
     "data": {
      "text/plain": [
       "(5572, 100)"
      ]
     },
     "execution_count": 29,
     "metadata": {},
     "output_type": "execute_result"
    }
   ],
   "source": [
    "X.shape"
   ]
  },
  {
   "cell_type": "code",
   "execution_count": 30,
   "id": "fac114c6-6d68-4c36-a972-9100cbd56cc6",
   "metadata": {},
   "outputs": [],
   "source": [
    "# Split des données en ensembles d'entraînement et de test\n",
    "X_train, X_test, y_train, y_test = train_test_split(X, y, test_size=0.3, random_state=777)"
   ]
  },
  {
   "cell_type": "code",
   "execution_count": 31,
   "id": "9cc5df6b-46c8-4fbe-8bb7-f97f28d1a752",
   "metadata": {},
   "outputs": [],
   "source": [
    "# Initialisation du modèle RandomForest\n",
    "rf_model = RandomForestClassifier(random_state=777)\n",
    "\n",
    "# Entraînement du modèle sur les données d'entraînement\n",
    "rf_model.fit(X_train, y_train)\n",
    "\n",
    "# Prédiction sur l'ensemble de test\n",
    "y_pred = rf_model.predict(X_test)"
   ]
  },
  {
   "cell_type": "code",
   "execution_count": 32,
   "id": "bd3577f5-a5e8-4464-af5a-4d1235dfa4bc",
   "metadata": {},
   "outputs": [
    {
     "data": {
      "image/png": "[encoded data removed]",
      "text/plain": [
       "<Figure size 640x480 with 2 Axes>"
      ]
     },
     "metadata": {},
     "output_type": "display_data"
    }
   ],
   "source": [
    "# Calcul de la matrice de confusion\n",
    "cm = confusion_matrix(y_test, y_pred)\n",
    "\n",
    "# Affichage de la matrice de confusion\n",
    "disp = ConfusionMatrixDisplay(confusion_matrix=cm)\n",
    "disp.plot(cmap='Blues')\n",
    "plt.title(\"Matrice de confusion\")\n",
    "plt.show()"
   ]
  },
  {
   "cell_type": "code",
   "execution_count": 33,
   "id": "ee5e42fa-e855-4bd6-852f-0f27489ed341",
   "metadata": {},
   "outputs": [
    {
     "data": {
      "text/html": [
       "<div>\n",
       "<style scoped>\n",
       "    .dataframe tbody tr th:only-of-type {\n",
       "        vertical-align: middle;\n",
       "    }\n",
       "\n",
       "    .dataframe tbody tr th {\n",
       "        vertical-align: top;\n",
       "    }\n",
       "\n",
       "    .dataframe thead th {\n",
       "        text-align: right;\n",
       "    }\n",
       "</style>\n",
       "<table border=\"1\" class=\"dataframe\">\n",
       "  <thead>\n",
       "    <tr style=\"text-align: right;\">\n",
       "      <th></th>\n",
       "      <th>Precision</th>\n",
       "      <th>Recall</th>\n",
       "      <th>F1-Score</th>\n",
       "      <th>Accuracy</th>\n",
       "      <th>roc_AUC</th>\n",
       "      <th>Erreur Type 1 (FP)</th>\n",
       "      <th>Erreur Type 2 (FN)</th>\n",
       "    </tr>\n",
       "  </thead>\n",
       "  <tbody>\n",
       "    <tr>\n",
       "      <th>0</th>\n",
       "      <td>0.931</td>\n",
       "      <td>0.764</td>\n",
       "      <td>0.839</td>\n",
       "      <td>0.963</td>\n",
       "      <td>0.978</td>\n",
       "      <td>12</td>\n",
       "      <td>50</td>\n",
       "    </tr>\n",
       "  </tbody>\n",
       "</table>\n",
       "</div>"
      ],
      "text/plain": [
       "   Precision  Recall  F1-Score  Accuracy  roc_AUC  Erreur Type 1 (FP)  \\\n",
       "0      0.931   0.764     0.839     0.963    0.978                  12   \n",
       "\n",
       "   Erreur Type 2 (FN)  \n",
       "0                  50  "
      ]
     },
     "execution_count": 33,
     "metadata": {},
     "output_type": "execute_result"
    }
   ],
   "source": [
    "# Calcul des métriques d'évaluation\n",
    "precision = precision_score(y_test, y_pred)\n",
    "recall = recall_score(y_test, y_pred)\n",
    "f1 = f1_score(y_test, y_pred)\n",
    "accuracy = accuracy_score(y_test, y_pred)\n",
    "\n",
    "# Erreurs de type 1 et type 2\n",
    "false_positives = cm[0, 1]  # Non-spam prédit comme spam (Erreur type 1)\n",
    "false_negatives = cm[1, 0]  # Spam prédit comme non-spam (Erreur type 2)\n",
    "\n",
    "\n",
    "# Prédiction des probabilités pour le calcul de l'AUC\n",
    "y_proba = rf_model.predict_proba(X_test)[:, 1]  # Probabilités pour la classe 1\n",
    "roc_auc = roc_auc_score(y_test, y_proba)\n",
    "\n",
    "# Créer un DataFrame pour stocker les scores\n",
    "scores = {\n",
    "    'Precision': [round(precision,3)],\n",
    "    'Recall': [round(recall,3)],\n",
    "    'F1-Score': [round(f1,3)],\n",
    "    'Accuracy': [round(accuracy,3)],\n",
    "    'roc_AUC': [round(roc_auc, 3)],\n",
    "    'Erreur Type 1 (FP)': [false_positives],\n",
    "    'Erreur Type 2 (FN)': [false_negatives]\n",
    "}\n",
    "\n",
    "# Transformer le dictionnaire des scores en DataFrame\n",
    "df_scores = pd.DataFrame(scores)\n",
    "\n",
    "df_scores"
   ]
  },
  {
   "cell_type": "markdown",
   "id": "8838204d-0073-4c7a-b7fc-81f436a0526b",
   "metadata": {},
   "source": [
    "## Comparaison avec des NoteBooks de référence\n",
    "\n",
    "Un super NoteBook avec de très bonnes statistiques descriptives \n",
    "\n",
    "* https://www.kaggle.com/code/karnikakapoor/spam-or-ham-sms-classifier\n",
    "\n",
    "Un NoteBook de référence sur Kaggle : \n",
    "\n",
    "* https://www.kaggle.com/code/faressayah/natural-language-processing-nlp-for-beginners\n",
    "\n",
    "## À faire :\n",
    "\n",
    "- **Comparer les scores obtenus avec les NoteBooks de référence !**\n",
    "\n",
    "- **Finetune** des hyperamètres\n",
    "    - `arora_methods` : `a_arora`\n",
    "    - `Word2Vec` : `vector_size`\n",
    "    - `RandomForestClassifier` : `n_estimators`, `max_depth`, ...\n",
    " \n",
    "\n",
    "\n",
    "- Essayer d'autres modèles que RandomForest ou Régression Logistique. (KNN, NaiveBayes, etc...)\n",
    "\n",
    "- Essayer d'autres modèles pour l'extraction de word embeddings. (Glove, fasttext, BERT ou autres transformers finetuné, ...) "
   ]
  },
  {
   "cell_type": "code",
   "execution_count": 34,
   "id": "65103d6f-b62d-49df-9787-556576b8e924",
   "metadata": {},
   "outputs": [
    {
     "name": "stderr",
     "output_type": "stream",
     "text": [
      "calcul de word embedding...: 100%|█████████████| 4/4 [00:00<00:00, 49344.75it/s]\n",
      "Calcul des sentence embeddings...: 100%|████████| 4/4 [00:00<00:00, 5480.96it/s]\n"
     ]
    },
    {
     "data": {
      "text/plain": [
       "array([0, 0, 0, 1])"
      ]
     },
     "execution_count": 34,
     "metadata": {},
     "output_type": "execute_result"
    }
   ],
   "source": [
    "# Création d'un dataframe artificiel\n",
    "data = {'text': ['what about', 'see the last new of our model', 'win last phone', \n",
    "                 'WINNER!! As a valued network customer you have been selected to receive a price']}\n",
    "df_newdata = pd.DataFrame(data)\n",
    "df_newdata = extract_word_embd(df_newdata)\n",
    "df_newdata = arora_methods(df_newdata, remove_pc_nbr = 0)\n",
    "X_new = np.stack(df_newdata['sentence_embeddings'].values)\n",
    "rf_model.predict(X_new)"
   ]
  },
  {
   "cell_type": "code",
   "execution_count": 35,
   "id": "3097bbb4-2845-4201-9852-4b5643d9590e",
   "metadata": {},
   "outputs": [
    {
     "data": {
      "text/html": [
       "<div>\n",
       "<style scoped>\n",
       "    .dataframe tbody tr th:only-of-type {\n",
       "        vertical-align: middle;\n",
       "    }\n",
       "\n",
       "    .dataframe tbody tr th {\n",
       "        vertical-align: top;\n",
       "    }\n",
       "\n",
       "    .dataframe thead th {\n",
       "        text-align: right;\n",
       "    }\n",
       "</style>\n",
       "<table border=\"1\" class=\"dataframe\">\n",
       "  <thead>\n",
       "    <tr style=\"text-align: right;\">\n",
       "      <th></th>\n",
       "      <th>text</th>\n",
       "      <th>word_embeddings</th>\n",
       "      <th>len_dico</th>\n",
       "      <th>sentence_embeddings</th>\n",
       "    </tr>\n",
       "  </thead>\n",
       "  <tbody>\n",
       "    <tr>\n",
       "      <th>0</th>\n",
       "      <td>what about</td>\n",
       "      <td>{'what': [0.0062725055, -0.004816598, 0.005779...</td>\n",
       "      <td>2</td>\n",
       "      <td>[6.55528786731605e-06, -1.2350935552142812e-05...</td>\n",
       "    </tr>\n",
       "    <tr>\n",
       "      <th>1</th>\n",
       "      <td>see the last new of our model</td>\n",
       "      <td>{'see': [0.004178965, -0.0081762215, -0.008330...</td>\n",
       "      <td>7</td>\n",
       "      <td>[5.650625965542271e-06, -2.3830496722715772e-0...</td>\n",
       "    </tr>\n",
       "    <tr>\n",
       "      <th>2</th>\n",
       "      <td>win last phone</td>\n",
       "      <td>{'win': [-0.0060812817, 0.0022920144, -0.00748...</td>\n",
       "      <td>3</td>\n",
       "      <td>[-8.174083135271833e-06, -3.6344584042776527e-...</td>\n",
       "    </tr>\n",
       "    <tr>\n",
       "      <th>3</th>\n",
       "      <td>WINNER!! As a valued network customer you have...</td>\n",
       "      <td>{'winner!!': [-0.007505118, 0.0071286694, -0.0...</td>\n",
       "      <td>13</td>\n",
       "      <td>[-2.602509491036206e-05, 1.4882500941114938e-0...</td>\n",
       "    </tr>\n",
       "  </tbody>\n",
       "</table>\n",
       "</div>"
      ],
      "text/plain": [
       "                                                text  \\\n",
       "0                                         what about   \n",
       "1                      see the last new of our model   \n",
       "2                                     win last phone   \n",
       "3  WINNER!! As a valued network customer you have...   \n",
       "\n",
       "                                     word_embeddings  len_dico  \\\n",
       "0  {'what': [0.0062725055, -0.004816598, 0.005779...         2   \n",
       "1  {'see': [0.004178965, -0.0081762215, -0.008330...         7   \n",
       "2  {'win': [-0.0060812817, 0.0022920144, -0.00748...         3   \n",
       "3  {'winner!!': [-0.007505118, 0.0071286694, -0.0...        13   \n",
       "\n",
       "                                 sentence_embeddings  \n",
       "0  [6.55528786731605e-06, -1.2350935552142812e-05...  \n",
       "1  [5.650625965542271e-06, -2.3830496722715772e-0...  \n",
       "2  [-8.174083135271833e-06, -3.6344584042776527e-...  \n",
       "3  [-2.602509491036206e-05, 1.4882500941114938e-0...  "
      ]
     },
     "execution_count": 35,
     "metadata": {},
     "output_type": "execute_result"
    }
   ],
   "source": [
    "df_newdata"
   ]
  }
 ],
 "metadata": {
  "kernelspec": {
   "display_name": "Python 3 (ipykernel)",
   "language": "python",
   "name": "python3"
  },
  "language_info": {
   "codemirror_mode": {
    "name": "ipython",
    "version": 3
   },
   "file_extension": ".py",
   "mimetype": "text/x-python",
   "name": "python",
   "nbconvert_exporter": "python",
   "pygments_lexer": "ipython3",
   "version": "3.11.9"
  }
 },
 "nbformat": 4,
 "nbformat_minor": 5
}
